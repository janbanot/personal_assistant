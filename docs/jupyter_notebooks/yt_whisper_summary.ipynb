{
 "cells": [
  {
   "cell_type": "markdown",
   "metadata": {},
   "source": [
    "# YT video summary playground with whisper ai\n",
    "Playground for testing YT non-english video summary generation using whisper ai"
   ]
  },
  {
   "cell_type": "code",
   "execution_count": 8,
   "metadata": {},
   "outputs": [
    {
     "ename": "TypeError",
     "evalue": "YoutubeAudioLoader.__init__() takes 3 positional arguments but 4 were given",
     "output_type": "error",
     "traceback": [
      "\u001b[0;31m---------------------------------------------------------------------------\u001b[0m",
      "\u001b[0;31mTypeError\u001b[0m                                 Traceback (most recent call last)",
      "Cell \u001b[0;32mIn[8], line 29\u001b[0m\n\u001b[1;32m     23\u001b[0m \u001b[38;5;66;03m# Define YoutubeDL options\u001b[39;00m\n\u001b[1;32m     24\u001b[0m ydl_opts \u001b[38;5;241m=\u001b[39m {\n\u001b[1;32m     25\u001b[0m     \u001b[38;5;124m'\u001b[39m\u001b[38;5;124mffmpeg_location\u001b[39m\u001b[38;5;124m'\u001b[39m: venv_bin_dir,  \u001b[38;5;66;03m# Path to ffmpeg and ffprobe\u001b[39;00m\n\u001b[1;32m     26\u001b[0m     \u001b[38;5;66;03m# Add other options here...\u001b[39;00m\n\u001b[1;32m     27\u001b[0m }\n\u001b[0;32m---> 29\u001b[0m loader \u001b[38;5;241m=\u001b[39m GenericLoader(\u001b[43mYoutubeAudioLoader\u001b[49m\u001b[43m(\u001b[49m\u001b[43murls\u001b[49m\u001b[43m,\u001b[49m\u001b[43m \u001b[49m\u001b[43msave_dir\u001b[49m\u001b[43m,\u001b[49m\u001b[43m \u001b[49m\u001b[43mydl_opts\u001b[49m\u001b[43m)\u001b[49m, OpenAIWhisperParser())\n\u001b[1;32m     30\u001b[0m docs \u001b[38;5;241m=\u001b[39m loader\u001b[38;5;241m.\u001b[39mload()\n\u001b[1;32m     32\u001b[0m \u001b[38;5;28mprint\u001b[39m(docs[\u001b[38;5;241m0\u001b[39m]\u001b[38;5;241m.\u001b[39mpage_content[\u001b[38;5;241m0\u001b[39m:\u001b[38;5;241m500\u001b[39m])\n",
      "\u001b[0;31mTypeError\u001b[0m: YoutubeAudioLoader.__init__() takes 3 positional arguments but 4 were given"
     ]
    }
   ],
   "source": [
    "from langchain_community.document_loaders.blob_loaders.youtube_audio import (\n",
    "    YoutubeAudioLoader,\n",
    ")\n",
    "from langchain_community.document_loaders.generic import GenericLoader\n",
    "from langchain_community.document_loaders.parsers import (\n",
    "    OpenAIWhisperParser\n",
    ")\n",
    "\n",
    "### pip install yt_dlp pydub ibrosa ffmpeg ffprobe\n",
    "\n",
    "# Two Karpathy lecture videos\n",
    "urls = [\"https://youtu.be/kCc8FmEb1nY\", \"https://youtu.be/VMj-3S1tku0\"]\n",
    "\n",
    "# Directory to save audio files\n",
    "save_dir = \"~/dev/downloads\"\n",
    "\n",
    "loader = GenericLoader(YoutubeAudioLoader(urls, save_dir), OpenAIWhisperParser())\n",
    "docs = loader.load()\n",
    "\n",
    "print(docs[0].page_content[0:500])"
   ]
  }
 ],
 "metadata": {
  "kernelspec": {
   "display_name": "jupyter",
   "language": "python",
   "name": "python3"
  },
  "language_info": {
   "codemirror_mode": {
    "name": "ipython",
    "version": 3
   },
   "file_extension": ".py",
   "mimetype": "text/x-python",
   "name": "python",
   "nbconvert_exporter": "python",
   "pygments_lexer": "ipython3",
   "version": "3.11.7"
  }
 },
 "nbformat": 4,
 "nbformat_minor": 2
}
