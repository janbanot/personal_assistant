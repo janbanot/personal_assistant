{
 "cells": [
  {
   "cell_type": "code",
   "execution_count": 3,
   "metadata": {},
   "outputs": [],
   "source": [
    "from langchain_community.document_loaders import WebBaseLoader\n",
    "\n",
    "URL = \"https://www.kalzumeus.com/2011/10/28/dont-call-yourself-a-programmer/\"\n",
    "\n",
    "JINA_PREFIX = \"https://r.jina.ai/\"\n",
    "\n",
    "loader = WebBaseLoader(URL)\n",
    "data = loader.load()"
   ]
  },
  {
   "cell_type": "code",
   "execution_count": 20,
   "metadata": {},
   "outputs": [],
   "source": [
    "import requests\n",
    "import json\n",
    "\n",
    "response = requests.get(JINA_PREFIX + URL, headers={\"Accept\": \"application/json\"})\n",
    "response_json = json.loads(response.text)\n",
    "response_json_content = response_json[\"data\"][\"content\"]\n",
    "metadata = {\"title\": response_json[\"data\"][\"title\"],\n",
    "            \"url\": response_json[\"data\"][\"url\"]}"
   ]
  },
  {
   "cell_type": "code",
   "execution_count": 22,
   "metadata": {},
   "outputs": [
    {
     "name": "stdout",
     "output_type": "stream",
     "text": [
      "{'title': \"Don't Call Yourself A Programmer, And Other Career Advice\", 'url': 'https://www.kalzumeus.com/2011/10/28/dont-call-yourself-a-programmer/'}\n"
     ]
    }
   ],
   "source": [
    "# print(response.text)\n",
    "print(metadata)\n",
    "# print(data)"
   ]
  }
 ],
 "metadata": {
  "kernelspec": {
   "display_name": "jupyter",
   "language": "python",
   "name": "python3"
  },
  "language_info": {
   "codemirror_mode": {
    "name": "ipython",
    "version": 3
   },
   "file_extension": ".py",
   "mimetype": "text/x-python",
   "name": "python",
   "nbconvert_exporter": "python",
   "pygments_lexer": "ipython3",
   "version": "3.11.7"
  }
 },
 "nbformat": 4,
 "nbformat_minor": 2
}
