{
 "cells": [
  {
   "cell_type": "markdown",
   "metadata": {},
   "source": [
    "# YT video summary playground\n",
    "Playground for testing YT english video summary generation"
   ]
  },
  {
   "cell_type": "code",
   "execution_count": 78,
   "metadata": {},
   "outputs": [],
   "source": [
    "import os\n",
    "from dotenv import load_dotenv\n",
    "from langchain_community.document_loaders import YoutubeLoader\n",
    "from langchain_openai import ChatOpenAI\n",
    "from langchain.text_splitter import RecursiveCharacterTextSplitter\n",
    "from langchain.chains.summarize import load_summarize_chain\n",
    "\n",
    "load_dotenv()\n",
    "openai_key = os.getenv(\"OPENAI_API_KEY\")\n",
    "\n",
    "url = \"https://youtu.be/ThnVAgHzsLg?si=4s8wBcvXrfDPEiRn\"\n",
    "# url = \"https://www.youtube.com/watch?v=Hkgz1ysv9Fk\"\n",
    "loader = YoutubeLoader.from_youtube_url(url, add_video_info=True)\n",
    "results = loader.load()\n",
    "\n",
    "llm = ChatOpenAI(model=\"gpt-3.5-turbo\", temperature=0, openai_api_key=openai_key)\n",
    "\n",
    "# text_splitter = RecursiveCharacterTextSplitter(chunk_size=5000, chunk_overlap=1000)\n",
    "# texts = text_splitter.split_documents(results)\n",
    "\n",
    "# chain = load_summarize_chain(llm=llm, chain_type=\"map_reduce\", verbose=False)\n",
    "\n",
    "# summary = chain.run(texts)\n",
    "\n",
    "# print(summary)"
   ]
  },
  {
   "cell_type": "code",
   "execution_count": 79,
   "metadata": {},
   "outputs": [
    {
     "data": {
      "text/plain": [
       "2461"
      ]
     },
     "execution_count": 79,
     "metadata": {},
     "output_type": "execute_result"
    }
   ],
   "source": [
    "for document in results:\n",
    "    text_content = document.page_content\n",
    "\n",
    "llm.get_num_tokens(text_content)"
   ]
  },
  {
   "cell_type": "code",
   "execution_count": 80,
   "metadata": {},
   "outputs": [
    {
     "name": "stdout",
     "output_type": "stream",
     "text": [
      "Now we have 1 documents and the first one has 2461 tokens\n"
     ]
    }
   ],
   "source": [
    "from langchain import OpenAI\n",
    "from langchain.chains.summarize import load_summarize_chain\n",
    "from langchain.text_splitter import RecursiveCharacterTextSplitter\n",
    "\n",
    "text_splitter = RecursiveCharacterTextSplitter(separators=[\"\\n\\n\", \"\\n\"], chunk_size=10000, chunk_overlap=500)\n",
    "\n",
    "docs = text_splitter.create_documents([text_content])\n",
    "\n",
    "num_docs = len(docs)\n",
    "\n",
    "num_tokens_first_doc = llm.get_num_tokens(docs[0].page_content)\n",
    "\n",
    "print (f\"Now we have {num_docs} documents and the first one has {num_tokens_first_doc} tokens\")"
   ]
  },
  {
   "cell_type": "code",
   "execution_count": 81,
   "metadata": {},
   "outputs": [],
   "source": [
    "PROMPT_TEMPLATE = \"\"\"\n",
    "Please provide a concise and comprehensive summary of the given text.\n",
    "The summary should capture the main points and key details of the text while conveying the author's intended meaning accurately.\n",
    "Please ensure that the summary is well-organized and easy to read, with clear headings and subheadings to guide the reader through each section.\n",
    "The length of the summary should be appropriate to capture the main points and key details of the text, without including unnecessary information or becoming overly long.”\n",
    "\"\"\""
   ]
  },
  {
   "cell_type": "code",
   "execution_count": 82,
   "metadata": {},
   "outputs": [],
   "source": [
    "from langchain import PromptTemplate\n",
    "\n",
    "map_prompt = \"\"\"\n",
    "Write a concise summary of the following:\n",
    "\"{text}\"\n",
    "CONCISE SUMMARY:\n",
    "\"\"\"\n",
    "map_prompt_template = PromptTemplate(template=map_prompt, input_variables=[\"text\"])\n",
    "\n",
    "summary_combine_prompt = \"\"\"\n",
    "Please provide a detailed and comprehensive summary of the given text.\n",
    "The summary should capture the main points and key details of the text while conveying the author's intended meaning accurately.\n",
    "Second part should be a bulletpoint summary of the text.\n",
    "Example:\n",
    "In the text, the speaker discusses creating a chatbot that reads AI news from different sources using Gradient AI's hosted retrieval solution. They demonstrate how to build the chatbot in a few lines of code and deploy it on Streamlit for easy access.\n",
    "\n",
    "- The speaker created a chatbot that reads AI news from different sources\n",
    "- The chatbot uses Gradient AI's hosted retrieval solution to answer user queries\n",
    "- The chatbot was built in a few lines of code and deployed on Streamlit for easy access\n",
    "\n",
    "```{text}```\n",
    "SUMMARY:\n",
    "\"\"\"\n",
    "summary_combine_prompt_template = PromptTemplate(template=summary_combine_prompt, input_variables=[\"text\"])"
   ]
  },
  {
   "cell_type": "code",
   "execution_count": 83,
   "metadata": {},
   "outputs": [],
   "source": [
    "summary_chain = load_summarize_chain(llm=llm,\n",
    "                                     chain_type='map_reduce',\n",
    "                                     map_prompt=map_prompt_template,\n",
    "                                     combine_prompt=summary_combine_prompt_template,\n",
    "#                                      verbose=True\n",
    "                                    )"
   ]
  },
  {
   "cell_type": "code",
   "execution_count": 84,
   "metadata": {},
   "outputs": [],
   "source": [
    "output = summary_chain.run(docs)\n"
   ]
  },
  {
   "cell_type": "code",
   "execution_count": 85,
   "metadata": {},
   "outputs": [
    {
     "name": "stdout",
     "output_type": "stream",
     "text": [
      "The Seiko Alpinist SPB121 is a modern iteration of the classic SARB 017, a watch known for its unique design and features. Originally introduced in 1959, the Alpinist collection gained popularity with the SARB 017 in 2006. The SPB121 boasts a 39.5mm case, dual crowns, an internal rotating compass bezel, and a 6R35 movement with a 70-hour power reserve. Despite its unconventional design, the SPB121 offers versatility, durability, and value for less than $1,000. It has become a favorite among watch enthusiasts and is highly regarded in its price range.\n",
      "\n",
      "BULLETPONT SUMMARY:\n",
      "- The Seiko Alpinist SPB121 is a successor to the SARB 017, known for its unique design and features\n",
      "- The SPB121 features a 39.5mm case, dual crowns, internal rotating compass bezel, and a 6R35 movement with a 70-hour power reserve\n",
      "- Despite its unconventional design, the SPB121 offers versatility, durability, and value for under $1,000\n",
      "- The SPB121 has gained a strong following among watch enthusiasts and is considered one of the best watches in its price range\n"
     ]
    }
   ],
   "source": [
    "print (output)"
   ]
  }
 ],
 "metadata": {
  "kernelspec": {
   "display_name": "personal_assistant",
   "language": "python",
   "name": "python3"
  },
  "language_info": {
   "codemirror_mode": {
    "name": "ipython",
    "version": 3
   },
   "file_extension": ".py",
   "mimetype": "text/x-python",
   "name": "python",
   "nbconvert_exporter": "python",
   "pygments_lexer": "ipython3",
   "version": "3.11.7"
  }
 },
 "nbformat": 4,
 "nbformat_minor": 2
}
