{
 "cells": [
  {
   "cell_type": "markdown",
   "metadata": {},
   "source": [
    "# Personal Assistant project playground\n",
    "Playground for testing LLM interactions, adjusting parameters etc."
   ]
  },
  {
   "cell_type": "code",
   "execution_count": 6,
   "metadata": {},
   "outputs": [
    {
     "name": "stdout",
     "output_type": "stream",
     "text": [
      "The Seiko Alpinist collection, specifically the SPB121, is a successor to the popular SARB 017 model, offering impressive specifications and a unique design. The watch features a 70-hour power reserve, 200m water resistance, and a distinctive green dial with dual crowns and gold tone markers. Despite its unconventional appearance, the SPB121 is praised for its versatility and value for money, making it a top choice in the under $1,000 price range.\n"
     ]
    }
   ],
   "source": [
    "import os\n",
    "from dotenv import load_dotenv\n",
    "from langchain_community.document_loaders import YoutubeLoader\n",
    "from langchain_openai import ChatOpenAI\n",
    "from langchain.text_splitter import RecursiveCharacterTextSplitter\n",
    "from langchain.chains.summarize import load_summarize_chain\n",
    "\n",
    "load_dotenv()\n",
    "openai_key = os.getenv(\"OPENAI_API_KEY\")\n",
    "\n",
    "url = \"https://youtu.be/ThnVAgHzsLg?si=4s8wBcvXrfDPEiRn\"\n",
    "loader = YoutubeLoader.from_youtube_url(url, add_video_info=True)\n",
    "result = loader.load()\n",
    "\n",
    "llm = ChatOpenAI(model=\"gpt-3.5-turbo\", temperature=0, openai_api_key=openai_key)\n",
    "\n",
    "text_splitter = RecursiveCharacterTextSplitter(chunk_size=2000, chunk_overlap=300)\n",
    "texts = text_splitter.split_documents(result)\n",
    "\n",
    "chain = load_summarize_chain(llm=llm, chain_type=\"map_reduce\", verbose=False)\n",
    "\n",
    "summary = chain.run(texts)\n",
    "\n",
    "print(summary)"
   ]
  },
  {
   "cell_type": "markdown",
   "metadata": {},
   "source": [
    "model 3.5\n",
    "chunk size 2000\n",
    "overlap 300\n",
    "\n",
    "The Seiko Alpinist collection, specifically the SPB121, is a successor to the popular SARB 017 model, offering impressive specifications and a unique design. The watch features a 70-hour power reserve, 200m water resistance, and a distinctive green dial with dual crowns and gold tone markers. Despite its unconventional appearance, the SPB121 is praised for its versatility and value for money, making it a top choice in the under $1,000 price range."
   ]
  },
  {
   "cell_type": "markdown",
   "metadata": {},
   "source": [
    "model 3.5\n",
    "chunk size 2000\n",
    "overlap 200\n",
    "The Seiko Alpinist collection, specifically the SPB121 model, has a long history dating back to 1913. Despite being overshadowed by other Seiko dive watches, the Alpinist has gained a strong following, especially with the release of the SARB017 in 2006. The SPB121 continues to be a standout watch with its unique design and features, making it a top choice for watch enthusiasts. The watch features a 6R35 movement, 200m water resistance, and a versatile design that combines dressy aesthetics with utilitarian functionality. It is praised for its value proposition and reliability, making it a compelling option for those looking for an affordable mechanical watch under $1,000.\n"
   ]
  },
  {
   "cell_type": "markdown",
   "metadata": {},
   "source": [
    "model 3.5\n",
    "chunk size 2000\n",
    "overlap 100\n",
    "The Seiko Alpinist collection, particularly the SPB121 model, has a rich history dating back to 1913 and has gained a strong following among watch enthusiasts. The SPB121 features a unique design with a compass bezel, dual crown, and updated caliber movement. Priced at $725, it offers great value and performance, making it a top choice for those looking for a quality timepiece under $1,000. The speaker promotes their website, Teddyballer.com, as an authorized dealer of 30 brands and thanks viewers for watching."
   ]
  },
  {
   "cell_type": "markdown",
   "metadata": {},
   "source": [
    "model 3.5\n",
    "chunk size 2000\n",
    "overlap 0\n",
    "\n",
    "The Seiko Alpinist SPB121 is a popular watch model with a rich history dating back to 1913. It is a successor to the SARB017, featuring a dual crown design, sapphire crystal, and upgraded 6R35 caliber movement. The watch has unique design features like a vertical brushing and polishing finish, a non-screw down crown for rotating the internal compass bezel, and a power screw down exhibition case back. Despite its unconventional design, the SPB121 offers impressive water resistance, luminosity, and value for its price point.\n"
   ]
  }
 ],
 "metadata": {
  "kernelspec": {
   "display_name": "personal_assistant",
   "language": "python",
   "name": "python3"
  },
  "language_info": {
   "codemirror_mode": {
    "name": "ipython",
    "version": 3
   },
   "file_extension": ".py",
   "mimetype": "text/x-python",
   "name": "python",
   "nbconvert_exporter": "python",
   "pygments_lexer": "ipython3",
   "version": "3.11.7"
  }
 },
 "nbformat": 4,
 "nbformat_minor": 2
}
