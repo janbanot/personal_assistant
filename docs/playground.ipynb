{
 "cells": [
  {
   "cell_type": "markdown",
   "metadata": {},
   "source": [
    "# Personal Assistant project playground\n",
    "Playground for testing LLM interactions, adjusting parameters etc."
   ]
  },
  {
   "cell_type": "code",
   "execution_count": 14,
   "metadata": {},
   "outputs": [
    {
     "name": "stdout",
     "output_type": "stream",
     "text": [
      "The Seiko Alpinist collection, specifically the SPB121, has a rich history dating back to 1913 and has evolved over the years. The SPB121 offers impressive specifications and styling, making it a top choice for watch enthusiasts. The watch features a unique design with a dual crown, internal rotating compass bezel, and upgraded 6R35 movement. It has a versatile and updated look with a 39.5mm case size and sapphire crystal. The watch performs well in real-world testing and offers a strong value proposition under $1,000. Its connection to the popular SARB 017 model adds to its appeal, making it a compelling choice for watch enthusiasts.\n"
     ]
    }
   ],
   "source": [
    "import os\n",
    "from dotenv import load_dotenv\n",
    "from langchain_community.document_loaders import YoutubeLoader\n",
    "from langchain_openai import ChatOpenAI\n",
    "from langchain.text_splitter import RecursiveCharacterTextSplitter\n",
    "from langchain.chains.summarize import load_summarize_chain\n",
    "\n",
    "load_dotenv()\n",
    "openai_key = os.getenv(\"OPENAI_API_KEY\")\n",
    "\n",
    "url = \"https://youtu.be/ThnVAgHzsLg?si=4s8wBcvXrfDPEiRn\"\n",
    "loader = YoutubeLoader.from_youtube_url(url, add_video_info=True)\n",
    "result = loader.load()\n",
    "\n",
    "llm = ChatOpenAI(model=\"gpt-3.5-turbo\", temperature=0, openai_api_key=openai_key)\n",
    "\n",
    "text_splitter = RecursiveCharacterTextSplitter(chunk_size=2000, chunk_overlap=200)\n",
    "texts = text_splitter.split_documents(result)\n",
    "\n",
    "chain = load_summarize_chain(llm=llm, chain_type=\"map_reduce\", verbose=False)\n",
    "\n",
    "summary = chain.run(texts)\n",
    "\n",
    "print(summary)"
   ]
  },
  {
   "cell_type": "markdown",
   "metadata": {},
   "source": [
    "### TOP\n",
    "model gpt-3.5-turbo\n",
    "chunk size 2000\n",
    "overlap 200\n",
    "\n",
    "v1\n",
    "The Seiko Alpinist collection, specifically the SPB121 model, has a long history dating back to 1913. Despite being overshadowed by other Seiko dive watches, the Alpinist has gained a strong following, especially with the release of the SARB017 in 2006. The SPB121 continues to be a standout watch with its unique design and features, making it a top choice for watch enthusiasts. The watch features a 6R35 movement, 200m water resistance, and a versatile design that combines dressy aesthetics with utilitarian functionality. It is praised for its value proposition and reliability, making it a compelling option for those looking for an affordable mechanical watch under $1,000.\n",
    "\n",
    "v2\n",
    "The Seiko Alpinist collection, specifically the SPB121, has a rich history dating back to 1913 and has evolved over the years. The SPB121 offers impressive specifications and styling, making it a top choice for watch enthusiasts. The watch features a unique design with a dual crown, internal rotating compass bezel, and upgraded 6R35 movement. It has a versatile and updated look with a 39.5mm case size and sapphire crystal. The watch performs well in real-world testing and offers a strong value proposition under $1,000. Its connection to the popular SARB 017 model adds to its appeal, making it a compelling choice for watch enthusiasts."
   ]
  },
  {
   "cell_type": "markdown",
   "metadata": {},
   "source": [
    "model gpt-3.5-turbo\n",
    "chunk size 3000\n",
    "overlap 300\n",
    "\n",
    "The Seiko Alpinist SPB121 is a successor to the SARB 017, known for its unique design features and specifications. It has a dual crown design, internal rotating compass bezel, sapphire crystal, and 6R35 caliber movement. Despite its unconventional appearance, the watch is versatile, comfortable on the wrist, and offers good value for under $1,000. It has been well-received by fans of Seiko watches and is praised for its connection to the popular SARB017 model."
   ]
  },
  {
   "cell_type": "markdown",
   "metadata": {},
   "source": [
    "model gpt-3.5-turbo\n",
    "chunk size 4000\n",
    "overlap 400\n",
    "\n",
    "The Seiko Alpinist SPB121 is a successor to the SARB 017 with a rich history dating back to Seiko's first mechanical wristwatch. It features a 39.5mm case, dual crowns, an internal rotating compass bezel, and a 6R35 caliber movement. The watch offers impressive water resistance, a unique clasp orientation, and a compass bezel for directional assistance. Despite some design quirks, it is considered one of the best watches under $1,000, offering a blend of traditional features and modern updates."
   ]
  },
  {
   "cell_type": "markdown",
   "metadata": {},
   "source": [
    "model gpt-3.5-turbo\n",
    "chunk size 5000\n",
    "overlap 500\n",
    "\n",
    "The Seiko Alpinist SPB121 is a successor to the SARB 017, known for its unique design and specifications. It features updates such as a cyclops over the date and an exhibition case back, maintaining a 39.5mm case size and 13mm thickness. The watch is water-resistant up to 200 meters and includes a dual crown design for rotating the internal compass bezel. Despite some unconventional design elements, the SPB121 is a popular choice for watch enthusiasts, offering a strong value proposition with a 6r35 movement and impressive features under $1,000."
   ]
  },
  {
   "cell_type": "markdown",
   "metadata": {},
   "source": [
    "model gpt-3.5-turbo\n",
    "chunk size 2000\n",
    "overlap 300\n",
    "\n",
    "The Seiko Alpinist collection, specifically the SPB121, is a successor to the popular SARB 017 model, offering impressive specifications and a unique design. The watch features a 70-hour power reserve, 200m water resistance, and a distinctive green dial with dual crowns and gold tone markers. Despite its unconventional appearance, the SPB121 is praised for its versatility and value for money, making it a top choice in the under $1,000 price range."
   ]
  },
  {
   "cell_type": "markdown",
   "metadata": {},
   "source": [
    "model gpt-3.5-turbo\n",
    "chunk size 2000\n",
    "overlap 100\n",
    "The Seiko Alpinist collection, particularly the SPB121 model, has a rich history dating back to 1913 and has gained a strong following among watch enthusiasts. The SPB121 features a unique design with a compass bezel, dual crown, and updated caliber movement. Priced at $725, it offers great value and performance, making it a top choice for those looking for a quality timepiece under $1,000. The speaker promotes their website, Teddyballer.com, as an authorized dealer of 30 brands and thanks viewers for watching."
   ]
  },
  {
   "cell_type": "markdown",
   "metadata": {},
   "source": [
    "model 3.5\n",
    "chunk size 2000\n",
    "overlap 0\n",
    "\n",
    "The Seiko Alpinist SPB121 is a popular watch model with a rich history dating back to 1913. It is a successor to the SARB017, featuring a dual crown design, sapphire crystal, and upgraded 6R35 caliber movement. The watch has unique design features like a vertical brushing and polishing finish, a non-screw down crown for rotating the internal compass bezel, and a power screw down exhibition case back. Despite its unconventional design, the SPB121 offers impressive water resistance, luminosity, and value for its price point.\n"
   ]
  },
  {
   "cell_type": "markdown",
   "metadata": {},
   "source": [
    "model gpt-4\n",
    "chunk size 2000\n",
    "overlap 200\n",
    "\n",
    "The Seiko Alpinist collection, specifically the Prospex SPB121, is considered one of the best watches under $1,000 due to its unique features and rich history dating back to 1913. Despite being overshadowed by other Seiko models, the Alpinist has maintained popularity with its internal rotating compass bezel, dual crown design, and sapphire crystal. The SPB121 model, which replaced the popular JDM SARB 017 in 2006, has an updated caliber, a cyclops over the date, and an exhibition case back. It also features a water resistance of up to 200 meters and a compass bezel. Despite its unconventional design, the watch is versatile and high-performing, making it a popular choice among enthusiasts.\n",
    "\n",
    "(it took 60s to generate)"
   ]
  }
 ],
 "metadata": {
  "kernelspec": {
   "display_name": "personal_assistant",
   "language": "python",
   "name": "python3"
  },
  "language_info": {
   "codemirror_mode": {
    "name": "ipython",
    "version": 3
   },
   "file_extension": ".py",
   "mimetype": "text/x-python",
   "name": "python",
   "nbconvert_exporter": "python",
   "pygments_lexer": "ipython3",
   "version": "3.11.7"
  }
 },
 "nbformat": 4,
 "nbformat_minor": 2
}
